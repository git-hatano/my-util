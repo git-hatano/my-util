{
  "nbformat": 4,
  "nbformat_minor": 0,
  "metadata": {
    "colab": {
      "name": "unzip.ipynb",
      "provenance": [],
      "collapsed_sections": [],
      "mount_file_id": "17Lo5QRpcUKhbY8bwwWgOS4rJIdAJV9lZ",
      "authorship_tag": "ABX9TyMYYsNshe8Fwp/Ingo2svu4",
      "include_colab_link": true
    },
    "kernelspec": {
      "name": "python3",
      "display_name": "Python 3"
    },
    "language_info": {
      "name": "python"
    }
  },
  "cells": [
    {
      "cell_type": "markdown",
      "metadata": {
        "id": "view-in-github",
        "colab_type": "text"
      },
      "source": [
        "<a href=\"https://colab.research.google.com/github/git-hatano/my-util/blob/main/unzip.ipynb\" target=\"_parent\"><img src=\"https://colab.research.google.com/assets/colab-badge.svg\" alt=\"Open In Colab\"/></a>"
      ]
    },
    {
      "cell_type": "markdown",
      "source": [
        "# Zipファイル解凍\n",
        "https://note.nkmk.me/python-zipfile/"
      ],
      "metadata": {
        "id": "Rb-dZCv1DWuw"
      }
    },
    {
      "cell_type": "code",
      "source": [
        "# zipファイルへのパス\n",
        "zipfile_path = \"/content/drive/MyDrive/Colab Notebooks/PyTorchによる発展ディープラーニング/pytorch_advanced-master.zip\"\n",
        "# 出力先のフォルダ\n",
        "output_dir = \"/content/drive/MyDrive/Colab Notebooks/PyTorchによる発展ディープラーニング\""
      ],
      "metadata": {
        "id": "IVZhTGIDBh3f"
      },
      "execution_count": 3,
      "outputs": []
    },
    {
      "cell_type": "code",
      "execution_count": 2,
      "metadata": {
        "id": "q6xV0vCEBS4P"
      },
      "outputs": [],
      "source": [
        "import zipfile"
      ]
    },
    {
      "cell_type": "code",
      "source": [
        "def unzip(zipfile_path, output_dir):\n",
        "    with zipfile.ZipFile(zipfile_path) as existing_zip:\n",
        "        existing_zip.extractall(output_dir)"
      ],
      "metadata": {
        "id": "CfzQzKppCa8O"
      },
      "execution_count": 5,
      "outputs": []
    },
    {
      "cell_type": "code",
      "source": [
        "unzip(zipfile_path, output_dir)"
      ],
      "metadata": {
        "id": "b84FNzWMCteT"
      },
      "execution_count": 6,
      "outputs": []
    },
    {
      "cell_type": "code",
      "source": [
        ""
      ],
      "metadata": {
        "id": "S1OAXYfIC3wN"
      },
      "execution_count": null,
      "outputs": []
    }
  ]
}